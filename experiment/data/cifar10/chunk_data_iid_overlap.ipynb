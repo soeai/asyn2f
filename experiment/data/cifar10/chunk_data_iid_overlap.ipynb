{
 "cells": [
  {
   "cell_type": "code",
   "execution_count": 1,
   "metadata": {},
   "outputs": [
    {
     "name": "stderr",
     "output_type": "stream",
     "text": [
      "2023-07-28 09:16:06.870052: I tensorflow/core/util/port.cc:110] oneDNN custom operations are on. You may see slightly different numerical results due to floating-point round-off errors from different computation orders. To turn them off, set the environment variable `TF_ENABLE_ONEDNN_OPTS=0`.\n",
      "2023-07-28 09:16:06.871797: I tensorflow/tsl/cuda/cudart_stub.cc:28] Could not find cuda drivers on your machine, GPU will not be used.\n",
      "2023-07-28 09:16:06.905911: I tensorflow/tsl/cuda/cudart_stub.cc:28] Could not find cuda drivers on your machine, GPU will not be used.\n",
      "2023-07-28 09:16:06.906639: I tensorflow/core/platform/cpu_feature_guard.cc:182] This TensorFlow binary is optimized to use available CPU instructions in performance-critical operations.\n",
      "To enable the following instructions: AVX2 AVX512F AVX512_VNNI FMA, in other operations, rebuild TensorFlow with the appropriate compiler flags.\n",
      "2023-07-28 09:16:07.521726: W tensorflow/compiler/tf2tensorrt/utils/py_utils.cc:38] TF-TRT Warning: Could not find TensorRT\n"
     ]
    }
   ],
   "source": [
    "import numpy as np\n",
    "import pandas as pd\n",
    "import pickle\n",
    "from keras.datasets import cifar10"
   ]
  },
  {
   "cell_type": "code",
   "execution_count": null,
   "metadata": {},
   "outputs": [],
   "source": []
  },
  {
   "cell_type": "code",
   "execution_count": 2,
   "metadata": {},
   "outputs": [],
   "source": [
    "# Load training and testing data separately\n",
    "(x_train, y_train), (x_test, y_test) = cifar10.load_data()\n"
   ]
  },
  {
   "cell_type": "code",
   "execution_count": 3,
   "metadata": {},
   "outputs": [],
   "source": [
    "# Reshape x_train from 4D to 2D array (number of samples, width*height*channels)\n",
    "x_train = x_train.reshape(x_train.shape[0], -1)\n",
    "\n",
    "# Reshape y_train to 1D array\n",
    "y_train = y_train.reshape(-1)\n",
    "\n",
    "# Combine training data and labels into a single numpy array for easier manipulation\n",
    "train_data = np.column_stack((x_train, y_train))\n",
    "\n",
    "# Randomly shuffle the training data\n",
    "np.random.shuffle(train_data)\n"
   ]
  },
  {
   "cell_type": "code",
   "execution_count": null,
   "metadata": {},
   "outputs": [],
   "source": []
  },
  {
   "cell_type": "code",
   "execution_count": 4,
   "metadata": {},
   "outputs": [],
   "source": [
    "def get_chunks_with_overlap(data, num_chunks=10, min_chunk_size=0.2, max_chunk_size=0.4):\n",
    "    num_samples = len(data)\n",
    "    num_classes = 10  # cifar10 has 10 classes\n",
    "\n",
    "    # Select random chunk sizes that are multiples of the number of classes\n",
    "    chunk_sizes = [np.random.choice(np.arange(int(min_chunk_size * num_samples), \n",
    "                                              int(max_chunk_size * num_samples)+1, \n",
    "                                              num_classes)) for _ in range(num_chunks)]\n",
    "    \n",
    "    chunks = []\n",
    "    \n",
    "    # Split data by classes\n",
    "    data_by_class = {i: [] for i in range(num_classes)}\n",
    "    for row in data:\n",
    "        data_by_class[int(row[-1])].append(row)\n",
    "\n",
    "    # Ensure each sample is included at least once\n",
    "    for i in range(num_classes):\n",
    "        np.random.shuffle(data_by_class[i])\n",
    "\n",
    "    # Copy of the original class samples before popping\n",
    "    data_by_class_original = {i: list(data) for i, data in data_by_class.items()}\n",
    "    \n",
    "    for size in chunk_sizes:\n",
    "        chunk = []\n",
    "        for _ in range(size // num_classes):\n",
    "            for c in range(num_classes):\n",
    "                if data_by_class[c]:  # if there are samples left\n",
    "                    chunk.append(data_by_class[c].pop())\n",
    "                else:  # if all samples of this class have been used, start reusing\n",
    "                    chunk.append(data_by_class_original[c][np.random.choice(len(data_by_class_original[c]))])\n",
    "        chunks.append(np.array(chunk))\n",
    "    return chunks\n",
    "\n",
    "# Split train_data into 10 chunks\n",
    "chunks = get_chunks_with_overlap(train_data)\n",
    "\n",
    "\n"
   ]
  },
  {
   "cell_type": "code",
   "execution_count": 5,
   "metadata": {},
   "outputs": [
    {
     "data": {
      "text/plain": [
       "50000"
      ]
     },
     "execution_count": 5,
     "metadata": {},
     "output_type": "execute_result"
    }
   ],
   "source": [
    "# check to ensure that each sample in the total training dataset is chosen at least one\n",
    "\n",
    "total = np.concatenate(chunks, axis=0)\n",
    "unique_samples = np.unique(total, axis=0)\n",
    "\n",
    "len(unique_samples)\n",
    "\n"
   ]
  },
  {
   "cell_type": "code",
   "execution_count": null,
   "metadata": {},
   "outputs": [],
   "source": []
  },
  {
   "cell_type": "code",
   "execution_count": 6,
   "metadata": {},
   "outputs": [
    {
     "data": {
      "text/plain": [
       "array([[0.        , 0.        , 0.07261139, 0.18090564, 0.1847157 ,\n",
       "        0.20457372, 0.20366334, 0.18884828, 0.18359719, 0.18317533],\n",
       "       [0.        , 0.        , 0.07083778, 0.16553975, 0.17350326,\n",
       "        0.19580925, 0.18726688, 0.18504264, 0.17163033, 0.17873952],\n",
       "       [0.07261139, 0.07083778, 0.        , 0.16189186, 0.17149569,\n",
       "        0.1943735 , 0.18921053, 0.17711381, 0.17029914, 0.17120638],\n",
       "       [0.18090564, 0.16553975, 0.16189186, 0.        , 0.14467497,\n",
       "        0.15520979, 0.15090412, 0.14162821, 0.14178308, 0.14103564],\n",
       "       [0.1847157 , 0.17350326, 0.17149569, 0.14467497, 0.        ,\n",
       "        0.16314124, 0.15608723, 0.14750514, 0.14279277, 0.14450248],\n",
       "       [0.20457372, 0.19580925, 0.1943735 , 0.15520979, 0.16314124,\n",
       "        0.        , 0.1713552 , 0.16392508, 0.15981582, 0.16304393],\n",
       "       [0.20366334, 0.18726688, 0.18921053, 0.15090412, 0.15608723,\n",
       "        0.1713552 , 0.        , 0.16107996, 0.15173558, 0.15702864],\n",
       "       [0.18884828, 0.18504264, 0.17711381, 0.14162821, 0.14750514,\n",
       "        0.16392508, 0.16107996, 0.        , 0.1498917 , 0.15175677],\n",
       "       [0.18359719, 0.17163033, 0.17029914, 0.14178308, 0.14279277,\n",
       "        0.15981582, 0.15173558, 0.1498917 , 0.        , 0.14726862],\n",
       "       [0.18317533, 0.17873952, 0.17120638, 0.14103564, 0.14450248,\n",
       "        0.16304393, 0.15702864, 0.15175677, 0.14726862, 0.        ]])"
      ]
     },
     "execution_count": 6,
     "metadata": {},
     "output_type": "execute_result"
    }
   ],
   "source": [
    "def calculate_overlap(chunks):\n",
    "    overlaps = np.zeros((len(chunks), len(chunks)))\n",
    "    for i in range(len(chunks)):\n",
    "        for j in range(i + 1, len(chunks)):\n",
    "            set_i = set(tuple(row) for row in chunks[i])\n",
    "            set_j = set(tuple(row) for row in chunks[j])\n",
    "            intersection = set_i & set_j\n",
    "            union = set_i | set_j\n",
    "            overlap = len(intersection) / len(union)\n",
    "            overlaps[i, j] = overlap\n",
    "            overlaps[j, i] = overlap  # the overlap is symmetric\n",
    "    return overlaps\n",
    "overlaps = calculate_overlap(chunks)\n"
   ]
  },
  {
   "cell_type": "code",
   "execution_count": 8,
   "metadata": {},
   "outputs": [
    {
     "name": "stdout",
     "output_type": "stream",
     "text": [
      " pair (0,1) is: 0.0\n",
      " pair (0,2) is: 0.07261139082098891\n",
      " pair (0,3) is: 0.1809056435422708\n",
      " pair (0,4) is: 0.18471569591665757\n",
      " pair (0,5) is: 0.20457371839159874\n",
      " pair (0,6) is: 0.2036633384896639\n",
      " pair (0,7) is: 0.18884827635633913\n",
      " pair (0,8) is: 0.1835971855760774\n",
      " pair (0,9) is: 0.18317532962841887\n",
      " pair (1,2) is: 0.0708377842209675\n",
      " pair (1,3) is: 0.1655397528561436\n",
      " pair (1,4) is: 0.17350326248712175\n",
      " pair (1,5) is: 0.1958092485549133\n",
      " pair (1,6) is: 0.1872668763256052\n",
      " pair (1,7) is: 0.1850426382914497\n",
      " pair (1,8) is: 0.17163033466380104\n",
      " pair (1,9) is: 0.17873952473883595\n",
      " pair (2,3) is: 0.16189185958481092\n",
      " pair (2,4) is: 0.17149569303054032\n",
      " pair (2,5) is: 0.1943734962058116\n",
      " pair (2,6) is: 0.18921052631578947\n",
      " pair (2,7) is: 0.17711381487756045\n",
      " pair (2,8) is: 0.17029913687778347\n",
      " pair (2,9) is: 0.17120637774043534\n",
      " pair (3,4) is: 0.1446749654218534\n",
      " pair (3,5) is: 0.1552097946690473\n",
      " pair (3,6) is: 0.15090412384545338\n",
      " pair (3,7) is: 0.14162820914915542\n",
      " pair (3,8) is: 0.14178307885088412\n",
      " pair (3,9) is: 0.1410356372976196\n",
      " pair (4,5) is: 0.16314123917388407\n",
      " pair (4,6) is: 0.15608723269108618\n",
      " pair (4,7) is: 0.1475051384090611\n",
      " pair (4,8) is: 0.14279277249583203\n",
      " pair (4,9) is: 0.14450247756796572\n",
      " pair (5,6) is: 0.17135519557487158\n",
      " pair (5,7) is: 0.16392508143322476\n",
      " pair (5,8) is: 0.1598158225198828\n",
      " pair (5,9) is: 0.16304393001122147\n",
      " pair (6,7) is: 0.16107995846313602\n",
      " pair (6,8) is: 0.15173557937723328\n",
      " pair (6,9) is: 0.15702863911332968\n",
      " pair (7,8) is: 0.1498917031339787\n",
      " pair (7,9) is: 0.1517567685972137\n",
      " pair (8,9) is: 0.1472686230248307\n"
     ]
    }
   ],
   "source": [
    "for i in range(len(chunks)):\n",
    "    for j in range(i+1, len(chunks)):\n",
    "        print(f\" pair ({i},{j}) is: {overlaps[i,j]}\")"
   ]
  },
  {
   "cell_type": "code",
   "execution_count": null,
   "metadata": {},
   "outputs": [],
   "source": []
  },
  {
   "cell_type": "code",
   "execution_count": null,
   "metadata": {},
   "outputs": [],
   "source": []
  },
  {
   "cell_type": "code",
   "execution_count": 5,
   "metadata": {},
   "outputs": [
    {
     "name": "stdout",
     "output_type": "stream",
     "text": [
      "chunk 1: 12020 vs 12020 --> additional sample = [0, 0, 0, 0, 0, 0, 0, 0, 0, 0]\n",
      "additional sample list: [0 0 0 0 0 0 0 0 0 0]\n",
      "chunk 2: 14210 vs 14210 --> additional sample = [0, 0, 0, 0, 0, 0, 0, 0, 0, 0]\n",
      "additional sample list: [0 0 0 0 0 0 0 0 0 0]\n",
      "chunk 3: 15450 vs 15450 --> additional sample = [0, 0, 0, 0, 0, 0, 0, 0, 0, 0]\n",
      "additional sample list: [0 0 0 0 0 0 0 0 0 0]\n",
      "chunk 4: 11910 vs 11219 --> additional sample = [60, 78, 61, 74, 58, 73, 80, 76, 63, 68]\n",
      "additional sample list: [60 78 61 74 58 73 80 76 63 68]\n",
      "chunk 5: 10320 vs 9306 --> additional sample = [119, 107, 99, 111, 104, 105, 85, 86, 108, 90]\n",
      "additional sample list: [119 107  99 111 104 105  85  86 108  90]\n",
      "chunk 6: 10820 vs 9762 --> additional sample = [114, 103, 97, 104, 120, 95, 109, 111, 99, 106]\n",
      "additional sample list: [114 103  97 104 120  95 109 111  99 106]\n",
      "chunk 7: 11820 vs 10489 --> additional sample = [146, 133, 142, 149, 142, 130, 118, 127, 129, 115]\n",
      "additional sample list: [146 133 142 149 142 130 118 127 129 115]\n",
      "chunk 8: 11310 vs 10156 --> additional sample = [125, 106, 117, 105, 111, 128, 112, 123, 106, 121]\n",
      "additional sample list: [125 106 117 105 111 128 112 123 106 121]\n",
      "chunk 9: 17530 vs 14779 --> additional sample = [287, 273, 264, 284, 294, 270, 270, 277, 275, 257]\n",
      "additional sample list: [287 273 264 284 294 270 270 277 275 257]\n",
      "chunk 10: 16570 vs 14079 --> additional sample = [244, 261, 253, 270, 235, 241, 249, 250, 226, 262]\n",
      "additional sample list: [244 261 253 270 235 241 249 250 226 262]\n"
     ]
    }
   ],
   "source": [
    "def remove_duplicate_sample_from_chunk(chunks):\n",
    "    unique_chunks = []\n",
    "    additional_samples = []\n",
    "    num_classes = 10  # cifar10 has 10 classes\n",
    "\n",
    "    for i, chunk in enumerate(chunks):\n",
    "        unique_samples = np.unique(chunk, axis=0)\n",
    "        unique_chunks.append(unique_samples)\n",
    "\n",
    "        # Count the number of samples from each category in the original and unique chunks\n",
    "        original_counts = np.bincount(chunk[:,-1], minlength=num_classes)\n",
    "        unique_counts = np.bincount(unique_samples[:,-1], minlength=num_classes)\n",
    "\n",
    "        # Compute the additional_samples for each category as the difference between the original and unique counts\n",
    "        additional_sample = original_counts - unique_counts\n",
    "        additional_samples.append(additional_sample.tolist())\n",
    "        print(f\"chunk {i+1}: {len(chunk)} vs {len(unique_samples)} --> additional sample = {additional_sample.tolist()}\")\n",
    "        print(f\"additional sample list: {additional_sample}\")\n",
    "        \n",
    "    return zip(unique_chunks, additional_samples)\n",
    "\n",
    "requirement = remove_duplicate_sample_from_chunk(chunks)\n"
   ]
  },
  {
   "cell_type": "code",
   "execution_count": null,
   "metadata": {},
   "outputs": [],
   "source": []
  },
  {
   "cell_type": "code",
   "execution_count": 6,
   "metadata": {},
   "outputs": [
    {
     "data": {
      "text/plain": [
       "(12020, 3073)"
      ]
     },
     "execution_count": 6,
     "metadata": {},
     "output_type": "execute_result"
    }
   ],
   "source": [
    "chunk = chunks[0]\n",
    "\n",
    "chunk.shape"
   ]
  },
  {
   "cell_type": "code",
   "execution_count": null,
   "metadata": {},
   "outputs": [],
   "source": []
  },
  {
   "cell_type": "code",
   "execution_count": null,
   "metadata": {},
   "outputs": [],
   "source": []
  },
  {
   "cell_type": "code",
   "execution_count": 6,
   "metadata": {},
   "outputs": [],
   "source": [
    "def fill_chunks(requirement, chunks, subset_factor=2):\n",
    "    num_classes = 10  # cifar10 has 10 classes\n",
    "\n",
    "    for i, (unique_chunk, additional_samples) in enumerate(requirement):\n",
    "        # Create a set for faster membership tests\n",
    "        unique_set = set(map(tuple, unique_chunk))\n",
    "\n",
    "        # Convert the list of additional samples into a numpy array for easier manipulation\n",
    "        additional_samples = np.array(additional_samples)\n",
    "\n",
    "        while np.any(additional_samples > 0):\n",
    "            # Randomly select a chunk different from the current one\n",
    "            while True:\n",
    "                random_chunk_index = np.random.choice(len(chunks))\n",
    "                if random_chunk_index != i:\n",
    "                    break\n",
    "\n",
    "            random_chunk = chunks[random_chunk_index]\n",
    "            np.random.shuffle(random_chunk)\n",
    "\n",
    "            for sample in random_chunk:\n",
    "                # If sample is not already in unique_set and there are still missing samples for its category\n",
    "                if tuple(sample) not in unique_set and additional_samples[int(sample[-1])] > 0:\n",
    "                    # Add sample to unique_chunk\n",
    "                    unique_chunk = np.vstack([unique_chunk, sample])\n",
    "                    # Add sample to unique_set\n",
    "                    unique_set.add(tuple(sample))\n",
    "                    # Decrease the count of missing samples for this category\n",
    "                    additional_samples[int(sample[-1])] -= 1\n",
    "\n",
    "            # Replace the old chunk with the new one in the chunks list\n",
    "            chunks[i] = unique_chunk\n",
    "\n",
    "    return chunks\n",
    "\n",
    "# Use the fill_chunks function\n",
    "filled_chunks = fill_chunks(requirement, chunks)\n"
   ]
  },
  {
   "cell_type": "code",
   "execution_count": null,
   "metadata": {},
   "outputs": [],
   "source": []
  },
  {
   "cell_type": "code",
   "execution_count": 7,
   "metadata": {},
   "outputs": [
    {
     "name": "stdout",
     "output_type": "stream",
     "text": [
      "chunk 1: 15380 vs 15380 --> additional sample = [0, 0, 0, 0, 0, 0, 0, 0, 0, 0]\n",
      "additional sample list: [0 0 0 0 0 0 0 0 0 0]\n",
      "chunk 2: 17450 vs 17450 --> additional sample = [0, 0, 0, 0, 0, 0, 0, 0, 0, 0]\n",
      "additional sample list: [0 0 0 0 0 0 0 0 0 0]\n",
      "chunk 3: 13990 vs 13990 --> additional sample = [0, 0, 0, 0, 0, 0, 0, 0, 0, 0]\n",
      "additional sample list: [0 0 0 0 0 0 0 0 0 0]\n",
      "chunk 4: 10570 vs 10570 --> additional sample = [0, 0, 0, 0, 0, 0, 0, 0, 0, 0]\n",
      "additional sample list: [0 0 0 0 0 0 0 0 0 0]\n",
      "chunk 5: 18220 vs 18220 --> additional sample = [0, 0, 0, 0, 0, 0, 0, 0, 0, 0]\n",
      "additional sample list: [0 0 0 0 0 0 0 0 0 0]\n",
      "chunk 6: 17190 vs 17190 --> additional sample = [0, 0, 0, 0, 0, 0, 0, 0, 0, 0]\n",
      "additional sample list: [0 0 0 0 0 0 0 0 0 0]\n",
      "chunk 7: 19530 vs 19530 --> additional sample = [0, 0, 0, 0, 0, 0, 0, 0, 0, 0]\n",
      "additional sample list: [0 0 0 0 0 0 0 0 0 0]\n",
      "chunk 8: 19380 vs 19380 --> additional sample = [0, 0, 0, 0, 0, 0, 0, 0, 0, 0]\n",
      "additional sample list: [0 0 0 0 0 0 0 0 0 0]\n",
      "chunk 9: 13620 vs 13620 --> additional sample = [0, 0, 0, 0, 0, 0, 0, 0, 0, 0]\n",
      "additional sample list: [0 0 0 0 0 0 0 0 0 0]\n",
      "chunk 10: 10080 vs 10080 --> additional sample = [0, 0, 0, 0, 0, 0, 0, 0, 0, 0]\n",
      "additional sample list: [0 0 0 0 0 0 0 0 0 0]\n"
     ]
    }
   ],
   "source": [
    "result = remove_duplicate_sample_from_chunk(filled_chunks)"
   ]
  },
  {
   "cell_type": "code",
   "execution_count": 8,
   "metadata": {},
   "outputs": [
    {
     "name": "stdout",
     "output_type": "stream",
     "text": [
      "(15380, 3073)\n",
      "(17450, 3073)\n",
      "(13990, 3073)\n",
      "(10570, 3073)\n",
      "(18220, 3073)\n",
      "(17190, 3073)\n",
      "(19530, 3073)\n",
      "(19380, 3073)\n",
      "(13620, 3073)\n",
      "(10080, 3073)\n"
     ]
    }
   ],
   "source": [
    "# Unzip the result to get chunks and additional_samples separately\n",
    "chunks, _ = zip(*result)\n",
    "\n",
    "for chunk in chunks:\n",
    "    print(chunk.shape)\n",
    "\n"
   ]
  },
  {
   "cell_type": "code",
   "execution_count": null,
   "metadata": {},
   "outputs": [],
   "source": []
  },
  {
   "cell_type": "code",
   "execution_count": 9,
   "metadata": {},
   "outputs": [],
   "source": [
    "\n",
    "# Function to get label distribution in a chunk\n",
    "def get_label_distribution(chunk):\n",
    "    # The label is in the last column\n",
    "    labels = chunk[:, -1]\n",
    "    unique_labels, counts = np.unique(labels, return_counts=True)\n",
    "    return dict(zip(unique_labels, counts))\n",
    "\n",
    "\n",
    "# Function to get label proportions in a chunk\n",
    "def get_label_proportions(label_distribution, chunk_size):\n",
    "    proportions = {}\n",
    "    for label, count in label_distribution.items():\n",
    "        proportions[label] = count / chunk_size\n",
    "    return proportions\n",
    "\n",
    "\n"
   ]
  },
  {
   "cell_type": "code",
   "execution_count": 10,
   "metadata": {},
   "outputs": [],
   "source": [
    "import os\n",
    "folder = \"10_chunks_overlap\"\n",
    "if not os.path.exists(folder):\n",
    "    os.makedirs(folder)\n"
   ]
  },
  {
   "cell_type": "code",
   "execution_count": 11,
   "metadata": {},
   "outputs": [],
   "source": [
    "iid_folder = \"iid\"\n",
    "iid_folder = os.path.join(folder, iid_folder)\n",
    "if not os.path.exists(iid_folder):\n",
    "    os.makedirs(iid_folder)\n"
   ]
  },
  {
   "cell_type": "code",
   "execution_count": 12,
   "metadata": {},
   "outputs": [],
   "source": [
    "# iid distribution\n",
    "\n",
    "chunk_info = []\n",
    "for i, chunk in enumerate(chunks):\n",
    "\n",
    "    label_distribution = get_label_distribution(chunk)\n",
    "    chunk_size =len(chunk)\n",
    "    # save info\n",
    "    info = {}\n",
    "    info['chunk'] = i+1\n",
    "    info['size'] = chunk_size\n",
    "    info['label_distribution'] = label_distribution\n",
    "    proportions = get_label_proportions(label_distribution, chunk_size)\n",
    "    info['label_proportions'] = proportions\n",
    "\n",
    "    chunk_info.append(info)\n",
    "\n",
    "    # Save unbalanced chunk as a pickle file\n",
    "    with open(f'{iid_folder}/chunk_{i+1}.pickle', 'wb') as f:\n",
    "        pickle.dump(chunk, f)\n"
   ]
  },
  {
   "cell_type": "code",
   "execution_count": null,
   "metadata": {},
   "outputs": [],
   "source": []
  },
  {
   "cell_type": "code",
   "execution_count": 13,
   "metadata": {},
   "outputs": [
    {
     "name": "stdout",
     "output_type": "stream",
     "text": [
      "   chunk   size                                 label_distribution  \\\n",
      "0      1  15380  {0: 1538, 1: 1538, 2: 1538, 3: 1538, 4: 1538, ...   \n",
      "1      2  17450  {0: 1745, 1: 1745, 2: 1745, 3: 1745, 4: 1745, ...   \n",
      "2      3  13990  {0: 1399, 1: 1399, 2: 1399, 3: 1399, 4: 1399, ...   \n",
      "3      4  10570  {0: 1057, 1: 1057, 2: 1057, 3: 1057, 4: 1057, ...   \n",
      "4      5  18220  {0: 1822, 1: 1822, 2: 1822, 3: 1822, 4: 1822, ...   \n",
      "5      6  17190  {0: 1719, 1: 1719, 2: 1719, 3: 1719, 4: 1719, ...   \n",
      "6      7  19530  {0: 1953, 1: 1953, 2: 1953, 3: 1953, 4: 1953, ...   \n",
      "7      8  19380  {0: 1938, 1: 1938, 2: 1938, 3: 1938, 4: 1938, ...   \n",
      "8      9  13620  {0: 1362, 1: 1362, 2: 1362, 3: 1362, 4: 1362, ...   \n",
      "9     10  10080  {0: 1008, 1: 1008, 2: 1008, 3: 1008, 4: 1008, ...   \n",
      "\n",
      "                                   label_proportions  \n",
      "0  {0: 0.1, 1: 0.1, 2: 0.1, 3: 0.1, 4: 0.1, 5: 0....  \n",
      "1  {0: 0.1, 1: 0.1, 2: 0.1, 3: 0.1, 4: 0.1, 5: 0....  \n",
      "2  {0: 0.1, 1: 0.1, 2: 0.1, 3: 0.1, 4: 0.1, 5: 0....  \n",
      "3  {0: 0.1, 1: 0.1, 2: 0.1, 3: 0.1, 4: 0.1, 5: 0....  \n",
      "4  {0: 0.1, 1: 0.1, 2: 0.1, 3: 0.1, 4: 0.1, 5: 0....  \n",
      "5  {0: 0.1, 1: 0.1, 2: 0.1, 3: 0.1, 4: 0.1, 5: 0....  \n",
      "6  {0: 0.1, 1: 0.1, 2: 0.1, 3: 0.1, 4: 0.1, 5: 0....  \n",
      "7  {0: 0.1, 1: 0.1, 2: 0.1, 3: 0.1, 4: 0.1, 5: 0....  \n",
      "8  {0: 0.1, 1: 0.1, 2: 0.1, 3: 0.1, 4: 0.1, 5: 0....  \n",
      "9  {0: 0.1, 1: 0.1, 2: 0.1, 3: 0.1, 4: 0.1, 5: 0....  \n"
     ]
    }
   ],
   "source": [
    "# Convert list of dictionaries to DataFrame for better visualization\n",
    "df = pd.DataFrame(chunk_info)\n",
    "\n",
    "# print dataframe\n",
    "print(df)\n",
    "\n"
   ]
  },
  {
   "cell_type": "code",
   "execution_count": 14,
   "metadata": {},
   "outputs": [],
   "source": [
    "# Save dataframe to csv\n",
    "df.to_csv(f\"{iid_folder}/chunks_info.csv\", index=False)\n"
   ]
  },
  {
   "cell_type": "code",
   "execution_count": null,
   "metadata": {},
   "outputs": [],
   "source": []
  },
  {
   "cell_type": "code",
   "execution_count": null,
   "metadata": {},
   "outputs": [],
   "source": []
  },
  {
   "cell_type": "code",
   "execution_count": null,
   "metadata": {},
   "outputs": [],
   "source": []
  },
  {
   "cell_type": "code",
   "execution_count": 40,
   "metadata": {},
   "outputs": [
    {
     "data": {
      "text/plain": [
       "<matplotlib.image.AxesImage at 0x7f9f91f0ce20>"
      ]
     },
     "execution_count": 40,
     "metadata": {},
     "output_type": "execute_result"
    },
    {
     "data": {
      "image/png": "[encoded data removed]",
      "text/plain": [
       "<Figure size 640x480 with 1 Axes>"
      ]
     },
     "metadata": {},
     "output_type": "display_data"
    }
   ],
   "source": [
    "sample = chunks[0][5]\n",
    "image = sample[:-1]\n",
    "label = sample[-1]\n",
    "image = image.reshape((32, 32, 3))\n",
    "\n",
    "import matplotlib.pyplot as plt\n",
    "plt.imshow(image)\n"
   ]
  },
  {
   "cell_type": "code",
   "execution_count": 38,
   "metadata": {},
   "outputs": [],
   "source": []
  },
  {
   "cell_type": "code",
   "execution_count": null,
   "metadata": {},
   "outputs": [],
   "source": []
  },
  {
   "cell_type": "code",
   "execution_count": null,
   "metadata": {},
   "outputs": [],
   "source": []
  }
 ],
 "metadata": {
  "kernelspec": {
   "display_name": "asynfed",
   "language": "python",
   "name": "python3"
  },
  "language_info": {
   "codemirror_mode": {
    "name": "ipython",
    "version": 3
   },
   "file_extension": ".py",
   "mimetype": "text/x-python",
   "name": "python",
   "nbconvert_exporter": "python",
   "pygments_lexer": "ipython3",
   "version": "3.9.16"
  },
  "orig_nbformat": 4
 },
 "nbformat": 4,
 "nbformat_minor": 2
}
